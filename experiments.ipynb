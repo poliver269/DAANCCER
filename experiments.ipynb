{
 "cells": [
  {
   "cell_type": "code",
   "execution_count": null,
   "metadata": {
    "ExecuteTime": {
     "end_time": "2023-04-14T13:28:44.550081Z",
     "start_time": "2023-04-14T13:28:42.232497Z"
    },
    "collapsed": true
   },
   "outputs": [],
   "source": [
    "import json\n",
    "from plotter import TrajectoryPlotter\n",
    "from trajectory import ProteinTrajectory\n",
    "from analyse import MultiTrajectoryAnalyser, SingleTrajectoryAnalyser\n",
    "from utils.param_keys import *\n",
    "from utils.param_keys.analyses import *\n",
    "from utils.param_keys.kernel_functions import *\n",
    "from utils.param_keys.model import *"
   ]
  },
  {
   "cell_type": "markdown",
   "metadata": {},
   "source": [
    "# 1. Define the file names and paths for your data\n",
    "To run the experiments, the path and filenames of the data has to be set.\n",
    "The following four parameters are necessary:\n",
    "1. **trajectory_name** = Name of the trajectory (used for plot titles)\n",
    "2. **filename_list** = The list of filenames of the trajectories (e.g. .xtc/.dcd- files)\n",
    "3. **topology_filename**: .pdb-file of the trajectory\n",
    "4. **folder_path** (e.g. data/protein-name): path to the folder, where the trajectory files are (make sure to have the pdb data and the trajectories in the same folder)\n"
   ]
  },
  {
   "cell_type": "code",
   "execution_count": null,
   "metadata": {
    "ExecuteTime": {
     "end_time": "2023-04-14T13:28:44.649942Z",
     "start_time": "2023-04-14T13:28:42.235515Z"
    }
   },
   "outputs": [],
   "source": [
    "def get_files_and_kwargs(params):\n",
    "    trajectory_name = params[TRAJECTORY_NAME]\n",
    "    file_element = params[FILE_ELEMENT]\n",
    "    if trajectory_name == '2f4k':\n",
    "        filenames_list = [f'2F4K-0-protein-{i:03d}.dcd' for i in range(0, 62 + 1)] + ['tr3_unfolded.xtc',\n",
    "                                                                                      'tr8_folded.xtc']\n",
    "        file_kwargs = {'filename': filenames_list[file_element],\n",
    "                       'topology_filename': '2f4k.pdb',\n",
    "                       'folder_path': 'data/2f4k'}\n",
    "    elif trajectory_name == 'prot2':\n",
    "        filenames_list = ['prod_r1_nojump_prot.xtc',\n",
    "                          'prod_r2_nojump_prot.xtc',\n",
    "                          'prod_r3_nojump_prot.xtc']\n",
    "        file_kwargs = {'filename': filenames_list[file_element],\n",
    "                       'topology_filename': 'prod_r1_pbc_fit_prot_last.pdb',\n",
    "                       'folder_path': 'data/ProtNo2'}\n",
    "    elif trajectory_name == 'savinase':\n",
    "        filenames_list = ['savinase_1.xtc', 'savinase_2.xtc']\n",
    "        file_kwargs = {'filename': filenames_list[file_element],\n",
    "                       'topology_filename': 'savinase.pdb',\n",
    "                       'folder_path': 'data/Savinase'}\n",
    "    elif trajectory_name == '2wav':\n",
    "        filenames_list = [f'2WAV-0-protein-{i:03d}.dcd' for i in range(0, 136)]\n",
    "        file_kwargs = {'filename': filenames_list[file_element],\n",
    "                       'topology_filename': '2wav.pdb',\n",
    "                       'folder_path': 'data/2WAV-0-protein',\n",
    "                       'atoms': list(range(710))}\n",
    "    elif trajectory_name == '5i6x':\n",
    "        filenames_list = ['protein.xtc', 'system.xtc']\n",
    "        file_kwargs = {'filename': filenames_list[file_element],\n",
    "                       'topology_filename': '5i6x.pdb',\n",
    "                       'folder_path': 'data/ser-tr'}\n",
    "    elif trajectory_name == 'fs-peptide':\n",
    "        filenames_list = [f'trajectory-{i}.xtc' for i in range(1, 28 + 1)]\n",
    "        file_kwargs = {'filename': filenames_list[file_element], 'topology_filename': 'fs-peptide.pdb',\n",
    "                       'folder_path': 'data/fs-peptide'}\n",
    "    else:\n",
    "        raise ValueError(f'No data trajectory was found with the name `{trajectory_name}`.')\n",
    "    file_kwargs['params'] = params\n",
    "    filenames_list.pop(file_element)\n",
    "    return filenames_list, file_kwargs"
   ]
  },
  {
   "cell_type": "markdown",
   "metadata": {},
   "source": [
    "# Initialize Model Parameters\n",
    "To run the program, models with different parameters can be used and trained.\n",
    "In this cell, the different parameters of the models can be set.\n",
    "Although, it's **recommended using a *.json* file** instead and set the config parameters there.\n",
    "In this cell the different parameters are explained, this includes important and optional parameters.\n",
    "Note: The different parameters in upper-case can be imported `from utils.param_key import *`,\n",
    "although the string values of the parameters are written in lower-case and should be used in the *.json*-config-files.\n",
    "\n",
    "### Algorithms\n",
    "In the following some main algorithms with its parameter settings are listed:\n",
    "1. PCA\n",
    "    - `{ALGORITHM_NAME: 'original_pca', NDIM: MATRIX_NDIM}` or\n",
    "    - `{ALGORITHM_NAME: 'pca', NDIM: TENSOR_NDIM, USE_STD: False, ABS_EVAL_SORT: False}`\n",
    "2. TICA\n",
    "    - `{ALGORITHM_NAME: 'original_tica', NDIM: MATRIX_NDIM}` or\n",
    "    - `{ALGORITHM_NAME: 'tica', LAG_TIME: params[LAG_TIME], NDIM: MATRIX_NDIM, USE_STD: False, ABS_EVAL_SORT: False}`\n",
    "3. raw MATRIX models\n",
    "    - `{ALGORITHM_NAME: 'pca', NDIM: MATRIX_NDIM}`\n",
    "    - `{ALGORITHM_NAME: 'tica', NDIM: MATRIX_NDIM, LAG_TIME: params[LAG_TIME]}`\n",
    "\n",
    "4. raw TENSOR models\n",
    "    - `{ALGORITHM_NAME: 'pca', NDIM: TENSOR_NDIM}`\n",
    "    - `{ALGORITHM_NAME: 'tica', NDIM: TENSOR_NDIM, LAG_TIME: params[LAG_TIME]}`\n",
    "\n",
    "## Parameters\n",
    "### Required Parameters\n",
    "These parameters are **mandatory** for a correct program run!\n",
    "1. ALGORITHM_NAME:\n",
    "    - 'pca'\n",
    "    - 'tica'\n",
    "    - ('original_pca')\n",
    "    - ('original_tica')\n",
    "2. NDIM:\n",
    "    - MATRIX_NDIM (=2)\n",
    "    - TENSOR_NDIM (=3)\n",
    "\n",
    "### Optional Parameters\n",
    "The different parameters and their different options are listed here below.\n",
    "1. KERNEL (Choose how to map the kernel-matrix onto the covariance matrix,\n",
    "*default: kernel-matrix not used*)\n",
    "    - KERNEL_ONLY\n",
    "    - KERNEL_DIFFERENCE\n",
    "    - KERNEL_MULTIPLICATION\n",
    "2. KERNEL_TYPE (Choose the kernel-function which should be fitted on the covariance matrix,\n",
    "*default (if kernel set): MY_GAUSSIAN*)\n",
    "    - MY_GAUSSIAN\n",
    "    - MY_EXPONENTIAL\n",
    "    - MY_LINEAR\n",
    "    - MY_EPANECHNIKOV\n",
    "    - GAUSSIAN, EXPONENTIAL, LINEAR, EPANECHNIKOV (only with interval 1 fitting)\n",
    "3. COV_FUNCTION (Choose how to calculate the Covariance-Matrix for the algorithm,\n",
    "*default: np.cov*)\n",
    "    - np.cov\n",
    "    - np.corrcoef\n",
    "    - utils.matrix_tools.co_mad\n",
    "4. NTH_EIGENVECTOR (Set this parameter to *>1*, if you want to use the Eigenvalue Selection Approach\n",
    "with every *n*-th eigenvector [Not recommended], *default: 1*)\n",
    "    - [int]\n",
    "5. LAG_TIME (Set this parameter in connection with ALGORITHM_NAME: 'tica', *default: 0*)\n",
    "    - [int]\n",
    "\n",
    "### Boolean Parameters\n",
    "1. CORR_KERNEL (Set this parameter in connection with ALGORITHM_NAME 'tica'.\n",
    "If *True*, then the fitted kernel-matrix is also mapped on the correlation matrix [Not recommended], *default: False*)\n",
    "2. ONES_ON_KERNEL_DIAG (This parameter is useful, to force the diagonally dominant matrix properties in some cases,\n",
    "*default: False*)\n",
    "3. USE_STD (An additional standardizing preprocessing step can be used within the algorithm,\n",
    "*default: True*)\n",
    "4. CENTER_OVER_TIME (An additional standardizing preprocessing step can be used within the algorithm,\n",
    "*default: True*)\n",
    "5. EXTRA_DR_LAYER (Set this parameter to True, if you want to use the Eigenvalue Selection approach with a second layer\n",
    "[Not Recommended], *default: False*)"
   ]
  },
  {
   "cell_type": "code",
   "execution_count": null,
   "metadata": {
    "ExecuteTime": {
     "end_time": "2023-04-14T13:28:44.649942Z",
     "start_time": "2023-04-14T13:28:42.238546Z"
    }
   },
   "outputs": [],
   "source": [
    "def get_model_params_list(alg_json_file, params):\n",
    "    if alg_json_file is not None:\n",
    "        \"\"\"        Recommended        \"\"\"\n",
    "        return json.load(open(alg_json_file))\n",
    "        # return json.load(open('algorithm_parameters_list.json'))\n",
    "    else:\n",
    "        return [\n",
    "            # Original Algorithms\n",
    "            {ALGORITHM_NAME: 'original_pca', NDIM: MATRIX_NDIM},\n",
    "            {ALGORITHM_NAME: 'original_tica', NDIM: MATRIX_NDIM},\n",
    "            # ###   Insert your model parameters   ###\n",
    "            {ALGORITHM_NAME: 'pca', NDIM: TENSOR_NDIM, KERNEL: KERNEL_ONLY, ANALYSE_PLOT_TYPE: PLOT_3D_MAP},\n",
    "        ]"
   ]
  },
  {
   "cell_type": "markdown",
   "metadata": {},
   "source": [
    "# Define parameters for different runs\n",
    "In Addition to the model-parameters, the different parameters for the trajectory is important.\n",
    "This information can be set above:"
   ]
  },
  {
   "cell_type": "code",
   "execution_count": null,
   "metadata": {},
   "outputs": [
    {
     "ename": "FileNotFoundError",
     "evalue": "[Errno 2] No such file or directory: 'config_files/algorithm/algorithm_parameters_list.json'",
     "output_type": "error",
     "traceback": [
      "\u001b[1;31m---------------------------------------------------------------------------\u001b[0m",
      "\u001b[1;31mFileNotFoundError\u001b[0m                         Traceback (most recent call last)",
      "Cell \u001b[1;32mIn[4], line 16\u001b[0m\n\u001b[0;32m      3\u001b[0m run_params \u001b[38;5;241m=\u001b[39m {\n\u001b[0;32m      4\u001b[0m     PLOT_TYPE: COLOR_MAP,  \u001b[38;5;66;03m# 'heat_map', 'color_map', '3d_map', 'explained_var_plot'\u001b[39;00m\n\u001b[0;32m      5\u001b[0m     PLOT_TICS: \u001b[38;5;28;01mTrue\u001b[39;00m,  \u001b[38;5;66;03m# True, False\u001b[39;00m\n\u001b[1;32m   (...)\u001b[0m\n\u001b[0;32m     12\u001b[0m     FILE_ELEMENT: \u001b[38;5;241m0\u001b[39m,\n\u001b[0;32m     13\u001b[0m }\n\u001b[0;32m     15\u001b[0m filename_list, kwargs \u001b[38;5;241m=\u001b[39m get_files_and_kwargs(run_params)\n\u001b[1;32m---> 16\u001b[0m model_params_list \u001b[38;5;241m=\u001b[39m \u001b[43mget_model_params_list\u001b[49m\u001b[43m(\u001b[49m\u001b[43malg_params_json\u001b[49m\u001b[43m,\u001b[49m\u001b[43m \u001b[49m\u001b[43mrun_params\u001b[49m\u001b[43m)\u001b[49m\n",
      "Cell \u001b[1;32mIn[3], line 4\u001b[0m, in \u001b[0;36mget_model_params_list\u001b[1;34m(alg_json_file, params)\u001b[0m\n\u001b[0;32m      2\u001b[0m \u001b[38;5;28;01mif\u001b[39;00m alg_json_file \u001b[38;5;129;01mis\u001b[39;00m \u001b[38;5;129;01mnot\u001b[39;00m \u001b[38;5;28;01mNone\u001b[39;00m:\n\u001b[0;32m      3\u001b[0m     \u001b[38;5;124;03m\"\"\"        Recommended        \"\"\"\u001b[39;00m\n\u001b[1;32m----> 4\u001b[0m     \u001b[38;5;28;01mreturn\u001b[39;00m json\u001b[38;5;241m.\u001b[39mload(\u001b[38;5;28;43mopen\u001b[39;49m\u001b[43m(\u001b[49m\u001b[43malg_json_file\u001b[49m\u001b[43m)\u001b[49m)\n\u001b[0;32m      5\u001b[0m     \u001b[38;5;66;03m# return json.load(open('algorithm_parameters_list.json'))\u001b[39;00m\n\u001b[0;32m      6\u001b[0m \u001b[38;5;28;01melse\u001b[39;00m:\n\u001b[0;32m      7\u001b[0m     \u001b[38;5;28;01mreturn\u001b[39;00m [\n\u001b[0;32m      8\u001b[0m         \u001b[38;5;66;03m# Original Algorithms\u001b[39;00m\n\u001b[0;32m      9\u001b[0m         {ALGORITHM_NAME: \u001b[38;5;124m'\u001b[39m\u001b[38;5;124moriginal_pca\u001b[39m\u001b[38;5;124m'\u001b[39m, NDIM: MATRIX_NDIM},\n\u001b[1;32m   (...)\u001b[0m\n\u001b[0;32m     12\u001b[0m         {ALGORITHM_NAME: \u001b[38;5;124m'\u001b[39m\u001b[38;5;124mpca\u001b[39m\u001b[38;5;124m'\u001b[39m, NDIM: TENSOR_NDIM, KERNEL: KERNEL_ONLY, ANALYSE_PLOT_TYPE: PLOT_3D_MAP},\n\u001b[0;32m     13\u001b[0m     ]\n",
      "File \u001b[1;32mE:\\Users\\Oliver\\miniconda3\\envs\\daanccer\\lib\\site-packages\\IPython\\core\\interactiveshell.py:282\u001b[0m, in \u001b[0;36m_modified_open\u001b[1;34m(file, *args, **kwargs)\u001b[0m\n\u001b[0;32m    275\u001b[0m \u001b[38;5;28;01mif\u001b[39;00m file \u001b[38;5;129;01min\u001b[39;00m {\u001b[38;5;241m0\u001b[39m, \u001b[38;5;241m1\u001b[39m, \u001b[38;5;241m2\u001b[39m}:\n\u001b[0;32m    276\u001b[0m     \u001b[38;5;28;01mraise\u001b[39;00m \u001b[38;5;167;01mValueError\u001b[39;00m(\n\u001b[0;32m    277\u001b[0m         \u001b[38;5;124mf\u001b[39m\u001b[38;5;124m\"\u001b[39m\u001b[38;5;124mIPython won\u001b[39m\u001b[38;5;124m'\u001b[39m\u001b[38;5;124mt let you open fd=\u001b[39m\u001b[38;5;132;01m{\u001b[39;00mfile\u001b[38;5;132;01m}\u001b[39;00m\u001b[38;5;124m by default \u001b[39m\u001b[38;5;124m\"\u001b[39m\n\u001b[0;32m    278\u001b[0m         \u001b[38;5;124m\"\u001b[39m\u001b[38;5;124mas it is likely to crash IPython. If you know what you are doing, \u001b[39m\u001b[38;5;124m\"\u001b[39m\n\u001b[0;32m    279\u001b[0m         \u001b[38;5;124m\"\u001b[39m\u001b[38;5;124myou can use builtins\u001b[39m\u001b[38;5;124m'\u001b[39m\u001b[38;5;124m open.\u001b[39m\u001b[38;5;124m\"\u001b[39m\n\u001b[0;32m    280\u001b[0m     )\n\u001b[1;32m--> 282\u001b[0m \u001b[38;5;28;01mreturn\u001b[39;00m io_open(file, \u001b[38;5;241m*\u001b[39margs, \u001b[38;5;241m*\u001b[39m\u001b[38;5;241m*\u001b[39mkwargs)\n",
      "\u001b[1;31mFileNotFoundError\u001b[0m: [Errno 2] No such file or directory: 'config_files/algorithm/algorithm_parameters_list.json'"
     ]
    }
   ],
   "source": [
    "run_params_json = None  # NotYetImplemented\n",
    "alg_params_json = 'config_files/algorithm/algorithm_parameters_list.json'\n",
    "run_params = {\n",
    "    PLOT_TYPE: COLOR_MAP,  # 'heat_map', 'color_map', '3d_map', 'explained_var_plot'\n",
    "    PLOT_TICS: True,  # True, False\n",
    "    CARBON_ATOMS_ONLY: True,  # True, False\n",
    "    INTERACTIVE: True,  # True, False\n",
    "    N_COMPONENTS: None,\n",
    "    BASIS_TRANSFORMATION: False,\n",
    "    USE_ANGLES: False,\n",
    "    TRAJECTORY_NAME: '2f4k',\n",
    "    FILE_ELEMENT: 0,\n",
    "}\n",
    "\n",
    "filename_list, kwargs = get_files_and_kwargs(run_params)\n",
    "model_params_list = get_model_params_list(alg_params_json, run_params)"
   ]
  },
  {
   "cell_type": "markdown",
   "metadata": {},
   "source": [
    "# Plot the Molecules with a Slider to choose the time-stem of the plotting"
   ]
  },
  {
   "cell_type": "code",
   "execution_count": null,
   "metadata": {},
   "outputs": [],
   "source": [
    "tr = ProteinTrajectory(**kwargs)\n",
    "TrajectoryPlotter(tr).data_with_timestep_slider(min_max=None)"
   ]
  },
  {
   "cell_type": "markdown",
   "metadata": {},
   "source": [
    "# Compare models (Qualitative)\n",
    "Plots the different models side by side, demonstrating the reduced dimensions\n",
    "NOTE: qualitative plot works only for 2 components"
   ]
  },
  {
   "cell_type": "code",
   "execution_count": null,
   "metadata": {},
   "outputs": [],
   "source": [
    "if run_params[N_COMPONENTS] != 2:\n",
    "    raise ValueError(\"Qualitative plot only works for 2 Components\")\n",
    "else:\n",
    "    tr = ProteinTrajectory(**kwargs)\n",
    "    SingleTrajectoryAnalyser(tr).compare(model_params_list)"
   ]
  },
  {
   "cell_type": "markdown",
   "metadata": {},
   "source": [
    "# Analyse Multiple trajectories"
   ]
  },
  {
   "cell_type": "code",
   "execution_count": null,
   "metadata": {},
   "outputs": [],
   "source": [
    "kwargs_list = [kwargs]\n",
    "for filename in filename_list:\n",
    "    new_kwargs = kwargs.copy()\n",
    "    new_kwargs['filename'] = filename\n",
    "    kwargs_list.append(new_kwargs)"
   ]
  },
  {
   "cell_type": "markdown",
   "metadata": {},
   "source": [
    "## Compare Kernels"
   ]
  },
  {
   "cell_type": "code",
   "execution_count": null,
   "metadata": {},
   "outputs": [],
   "source": [
    "kernel_names = [MY_GAUSSIAN, MY_EXPONENTIAL, MY_EPANECHNIKOV]\n",
    "model_params_alg_name_only = {ALGORITHM_NAME: 'pca', NDIM: TENSOR_NDIM, ANALYSE_PLOT_TYPE: KERNEL_COMPARE}\n",
    "mtr = MultiTrajectoryAnalyser(kwargs_list, run_params)\n",
    "mtr.compare_kernel_fitting_scores(kernel_names, model_params_alg_name_only)"
   ]
  },
  {
   "cell_type": "code",
   "execution_count": null,
   "metadata": {},
   "outputs": [],
   "source": []
  }
 ],
 "metadata": {
  "kernelspec": {
   "display_name": "Python 3 (ipykernel)",
   "language": "python",
   "name": "python3"
  },
  "language_info": {
   "codemirror_mode": {
    "name": "ipython",
    "version": 3
   },
   "file_extension": ".py",
   "mimetype": "text/x-python",
   "name": "python",
   "nbconvert_exporter": "python",
   "pygments_lexer": "ipython3",
   "version": "3.8.5"
  }
 },
 "nbformat": 4,
 "nbformat_minor": 1
}
